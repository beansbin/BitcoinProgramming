{
 "cells": [
  {
   "cell_type": "markdown",
   "metadata": {},
   "source": [
    "# 유한체"
   ]
  },
  {
   "cell_type": "markdown",
   "metadata": {},
   "source": [
    " : 블록체인의 핵심 알고리즘인 타원곡선 암호를 파악하기 위한 수학적 개념\n"
   ]
  },
  {
   "cell_type": "markdown",
   "metadata": {},
   "source": [
    "## 1. 유한체 정의"
   ]
  },
  {
   "cell_type": "markdown",
   "metadata": {},
   "source": [
    " : 5개의 성질을 만족하는 2개의 연산자(+, *)를 가진 집합으로, 집합의 원소 수는 유한하다.         "
   ]
  },
  {
   "cell_type": "markdown",
   "metadata": {},
   "source": [
    " * 집합 위에 두 연산 +, *이 닫혀있다.    \n",
    " * '+' 연산에 대한 항등원 0이 존재     \n",
    " * '*' 연산에 대한 항등원 1이 존재     \n",
    " * '+' 연산에 대한 a의 역원 -a가 존재     \n",
    " * '*' 연산에 대한 a의 역원 $$a^-1$$가 존재 "
   ]
  },
  {
   "cell_type": "markdown",
   "metadata": {},
   "source": [
    "## 2. 유한체 집합 정의"
   ]
  },
  {
   "cell_type": "markdown",
   "metadata": {},
   "source": [
    "$$F_p = \\{0, 1, 2, ...p-1\\}$$"
   ]
  },
  {
   "cell_type": "markdown",
   "metadata": {},
   "source": [
    "는 위수 p(집합 원소의 개수)의 유한체이다.\n",
    "* p는 항상 가장 큰 숫자 원소보다 하나가 더 많다.\n",
    "* 위수는 항상 소수이다.\n",
    "* 유한체는 반드시 소수이거나 소수의 거듭제곱을 위수로 갖는다.   \n",
    " -> 유한체의 위수가 소수이면 유한체에 0이 아닌 임의의 원소 k로 전체 집합을 곱하면 그 결과는 다시 원래 집합이 된다."
   ]
  },
  {
   "cell_type": "markdown",
   "metadata": {},
   "source": [
    "### 2.1 유한체 구현하기\n",
    " : 유한체 원소 1개를 표현하는 클래스 FiledElement 정의"
   ]
  },
  {
   "cell_type": "code",
   "execution_count": 26,
   "metadata": {},
   "outputs": [],
   "source": [
    "class FieldElement:\n",
    "    \n",
    "    # 2.1\n",
    "    \n",
    "    # num은 원소값, prime은 소수\n",
    "    def __init__(self, num, prime):\n",
    "        if num >= prime or num < 0: # 원소는 0 <= prime <= num의 값을 가져야 함\n",
    "            error = 'Num {} not in field range 0 to {}'.format(\n",
    "                num, prime - 1)\n",
    "            raise ValueError(error)\n",
    "        self.num = num\n",
    "        self.prime = prime\n",
    "\n",
    "    def __repr__(self):\n",
    "        return 'FieldElement_{}({})'.format(self.prime, self.num)\n",
    "    \n",
    "    # FieldElement 클래스의 두 개체가 같은지 검사\n",
    "    def __eq__(self, other): \n",
    "        if other is None:\n",
    "            return False\n",
    "        return self.num == other.num and self.prime == other.prime  # num 과 prime가 같아야 True\n",
    "    \n",
    "    \n",
    "    # 2.2\n",
    "    \n",
    "    # 연습문제 1.1 - != 연산자 재정의\n",
    "    def __ne__(self, other): \n",
    "        return not(self == other)\n",
    "    \n",
    "    # 유한체에서의 덧셈 연산 정의\n",
    "    def __add__(self, other):\n",
    "        if self.prime != other.prime: # 위수가 동일해야 함 \n",
    "            raise TypeError('Cannot add two numbers in different Fields')\n",
    "        num = (self.num + other.num) % self.prime # 소수가 같으면 원소들을 더한 후 mod p 연산\n",
    "        return self.__class__(num, self.prime)  \n",
    "\n",
    "    # 연습문제 1.3 - 유한체에서의 뺄셈 연산 정의\n",
    "    def __sub__(self, other):\n",
    "        if self.prime != other.prime:\n",
    "            raise TypeError('Cannot subtract two numbers in different Fields')\n",
    "        num = (self.num - other.num) % self.prime # 소수가 같으면 원소들을 뺀 후 mod p 연산\n",
    "        return self.__class__(num, self.prime) \n",
    "    \n",
    "    # 2.3\n",
    "    \n",
    "    # 연습문제 1.6 - 유한체에서의 곱셈 연산 정의\n",
    "    def __mul__(self, other):\n",
    "        if self.prime != other.prime:\n",
    "            raise TypeError('Cannot multiply two numbers in different Fields')\n",
    "        num = (self.num * other.num) % self.prime # 소수가 같으면 원소들을 곱한 후 mod p 연산\n",
    "        return self.__class__(num, self.prime) \n",
    "    \n",
    "    # 유한체에서의 거듭제곱 연산 정의\n",
    "    def __pow__(self, exponent): # 지수 exponent는 int형\n",
    "        n = exponent\n",
    "        while n < 0: # 양의 지수로 변경\n",
    "            n += self.prime - 1\n",
    "        num = pow(self.num, n, self.prime)\n",
    "        return self.__class__(num, self.prime)\n",
    "    \n",
    "    # 2.4\n",
    "    \n",
    "    # 연습문제 1.9 - 유한체에서의 나눗셈 연산 정의\n",
    "    def __truediv__(self, other):\n",
    "        if self.prime != other.prime:\n",
    "            raise TypeError('Cannot divide two numbers in different Fields')\n",
    "        num = self.num * pow(other.num, sel.prime-2, self.prime) % self.prime\n",
    "        return self.__class__(num, self.prime)"
   ]
  },
  {
   "cell_type": "markdown",
   "metadata": {},
   "source": [
    "2.1 TestCode"
   ]
  },
  {
   "cell_type": "code",
   "execution_count": 8,
   "metadata": {},
   "outputs": [
    {
     "name": "stdout",
     "output_type": "stream",
     "text": [
      "False\n",
      "True\n",
      "True\n"
     ]
    }
   ],
   "source": [
    "a = FieldElement(7, 13)\n",
    "b = FieldElement(6, 13)\n",
    "print(a == b)\n",
    "print(a == a)\n",
    "print(a!= b)"
   ]
  },
  {
   "cell_type": "markdown",
   "metadata": {},
   "source": [
    "### 2.2. 덧셈과 뺄셈 연산 정의\n",
    " : 나머지 연산(mod)의 성질을 이용하면 유한체에서 덧셈과 뺄셈에 대해 닫혀있도록 할 수 있음.   \n",
    " \n",
    " $$a+b = (a+b) mod p $$\n",
    " $$-a = (-a) mod p $$\n",
    " \n",
    " -a는 a의 덧셈의 역원이며, 나머지 연산을 이용하므로 일반적인 덧셈, 뺄셈과는 다른 종류의 연산이다.\n"
   ]
  },
  {
   "cell_type": "markdown",
   "metadata": {},
   "source": [
    "2.2 TestCode"
   ]
  },
  {
   "cell_type": "code",
   "execution_count": 9,
   "metadata": {},
   "outputs": [
    {
     "name": "stdout",
     "output_type": "stream",
     "text": [
      "True\n",
      "FieldElement_13(8)\n"
     ]
    }
   ],
   "source": [
    "a = FieldElement(7, 13)\n",
    "b = FieldElement(12, 13)\n",
    "c = FieldElement(6, 13)\n",
    "print(a+b==c)\n",
    "print(a-b)"
   ]
  },
  {
   "cell_type": "markdown",
   "metadata": {},
   "source": [
    "### 2.3 곱셈과 거듭제곱 연산 정의"
   ]
  },
  {
   "cell_type": "markdown",
   "metadata": {},
   "source": [
    " : 유한체에서 닫혀있는 곱셈과 거듭제곱을 정의할 수 있다.\n"
   ]
  },
  {
   "cell_type": "markdown",
   "metadata": {},
   "source": [
    "2.3 TestCode - 곱셈 연산"
   ]
  },
  {
   "cell_type": "code",
   "execution_count": 10,
   "metadata": {},
   "outputs": [
    {
     "name": "stdout",
     "output_type": "stream",
     "text": [
      "True\n"
     ]
    }
   ],
   "source": [
    "a = FieldElement(3, 13)\n",
    "b = FieldElement(12, 13)\n",
    "c = FieldElement(10, 13)\n",
    "print(a*b==c)"
   ]
  },
  {
   "cell_type": "markdown",
   "metadata": {},
   "source": [
    "2.3 TestCode - 거듭제곱 연산   \n",
    " : pow() 두 번째 매개변수는 양수여야 하므로 음의 거듭제곱을 계산하기 위해서는 페르마의 정리를 이용해 양의 지수로 변경시켜준다."
   ]
  },
  {
   "cell_type": "code",
   "execution_count": 27,
   "metadata": {},
   "outputs": [
    {
     "name": "stdout",
     "output_type": "stream",
     "text": [
      "True\n"
     ]
    }
   ],
   "source": [
    "a = FieldElement(7, 13)\n",
    "b = FieldElement(8, 13)\n",
    "print(a**-3==b)"
   ]
  },
  {
   "cell_type": "markdown",
   "metadata": {},
   "source": [
    "### 2.4 나눗셈 연산 정의"
   ]
  },
  {
   "cell_type": "markdown",
   "metadata": {},
   "source": [
    " : 곱셈의 역원을 이용해서 나눗셈을 정의할 수 있음."
   ]
  },
  {
   "cell_type": "markdown",
   "metadata": {},
   "source": [
    "* 페르마의 작은 정리      \n",
    " : 소수 p와 0보다 큰 n에 대해 $$n^{p-1} = 1$$    \n",
    " 즉, $$n^{p-1} mod p = 1$$"
   ]
  },
  {
   "cell_type": "markdown",
   "metadata": {},
   "source": [
    "나눗셈은 곱셈의 역역산이므로, $$a/b = a*b^-1$$\n",
    "b의 역원을 구하기 위해 페르마의 작은 정리가 사용된다.\n",
    "$$b^{-1} = b^{-1} * 1 = b^{-1} * b^{p-1} = b^{p-2}$$\n",
    "즉, $$b^{-1} = b^{p-2}$$\n",
    "지수 연산은 시간이 오래걸리므로 나머지 연산을 위한 pow()의 세 번째 매개변수를 활용하면 좋음."
   ]
  },
  {
   "cell_type": "code",
   "execution_count": null,
   "metadata": {},
   "outputs": [],
   "source": []
  }
 ],
 "metadata": {
  "kernelspec": {
   "display_name": "Python 3",
   "language": "python",
   "name": "python3"
  },
  "language_info": {
   "codemirror_mode": {
    "name": "ipython",
    "version": 3
   },
   "file_extension": ".py",
   "mimetype": "text/x-python",
   "name": "python",
   "nbconvert_exporter": "python",
   "pygments_lexer": "ipython3",
   "version": "3.7.6"
  }
 },
 "nbformat": 4,
 "nbformat_minor": 4
}
